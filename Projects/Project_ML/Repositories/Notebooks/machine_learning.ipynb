{
 "cells": [
  {
   "metadata": {},
   "cell_type": "markdown",
   "source": [
    "1_Read dataset\n",
    "2_Encoding\n",
    "3_Normalization\n",
    "4_Train_test_split\n",
    "5_Train_model\n"
   ],
   "id": "fc1063183674ad4f"
  },
  {
   "metadata": {},
   "cell_type": "markdown",
   "source": "",
   "id": "da54e21bfc34a908"
  },
  {
   "metadata": {},
   "cell_type": "code",
   "source": [
    "import pandas as pd\n",
    "\n",
    "from Projects.Functions.Config_Loader.config_loader import *\n",
    "from Projects.Functions.Features_Engineering.features_engineering import *\n",
    "from Projects.Functions.Modelisation.modelisation import *\n",
    "from Projects.Functions.Models_generation.models_generation import *\n",
    "from Projects.Functions.Report.report import *\n",
    "from Projects.Functions.Pipeline_Modelisation.pipeline_modelisation import *\n",
    "from scipy.stats import iqr, shapiro,kstest"
   ],
   "id": "dc6f5824fed5b22b",
   "outputs": [],
   "execution_count": null
  },
  {
   "metadata": {},
   "cell_type": "code",
   "source": "config=ConfigLoader(r\"C:\\Users\\tallar\\Documents\\PROJETS\\EDA_and_ML\\Projects\\Configs\\Config.json\")",
   "id": "ece6c53e10c627e0",
   "outputs": [],
   "execution_count": null
  },
  {
   "metadata": {},
   "cell_type": "code",
   "source": [
    "dataset=config.get_dataset_path()\n",
    "print(f\"dataset_path : {dataset}\")\n",
    "cible=config.get_project_target()\n",
    "print(f\"cible : {cible}\")\n",
    "modele_type=config.get_model_type()\n",
    "print(f\"model_type : {modele_type}\")\n",
    "test_fraction=config.get_test_fraction()\n",
    "print(f\"test_fraction : {test_fraction}\")\n",
    "model_path=config.get_model_path()\n",
    "print(f\"model_path : {model_path}\")\n",
    "alpha = config.get_alpha()\n",
    "print(f\"alpha : {alpha}\")\n",
    "correlation_limit = config.get_corr_limit()\n",
    "print(f\"correlation_limit : {correlation_limit}\")\n",
    "cross_validation =config.get_cross_validation()\n",
    "print(f\"cross_validation : {cross_validation}\")\n",
    "file_name =config.get_dataset_filename()\n",
    "print(f\"file_name : {file_name}\")\n",
    "columns_to_delete = config.get_deleted_columns()\n",
    "print(f\"columns_to_delete : {columns_to_delete}\")\n",
    "features_path = config.get_features_json_path()\n",
    "print(f\"features_path : {features_path}\")\n",
    "figure_path = config.get_figure_path()\n",
    "print(f\"figure_path : {figure_path}\")\n",
    "model_api_path=config.get_model_api_path()\n",
    "print(f\"model_api_path : {model_api_path}\")\n",
    "k_fold = config.get_fold_count()\n",
    "print(f\"k_fold : {k_fold}\")\n",
    "pca_dim = config.get_pca_dim()\n",
    "print(f\"pca_dim : {pca_dim}\")\n",
    "pca_variance = config.get_pca_variance()\n",
    "print(f\"pca_variance : {pca_variance}\")\n",
    "pca=config.use_pca()"
   ],
   "id": "80531aada41b8070",
   "outputs": [],
   "execution_count": null
  },
  {
   "metadata": {},
   "cell_type": "code",
   "source": [
    "project_name=\"House_price\"\n",
    "project_name = project_name + \" version_\"+ str(datetime.now().year) +\"_\"+ str(datetime.now().month) +\"_\"+ str(datetime.now().day) +\"_\"+datetime.now().strftime(\"%H%M%S\")\n",
    "report=Report(project_name)"
   ],
   "id": "833430f8a1b53628",
   "outputs": [],
   "execution_count": null
  },
  {
   "metadata": {},
   "cell_type": "code",
   "source": [
    "df= dataset_reading(dataset)\n",
    "cible=cible\n",
    "raw_features=df.drop(cible, axis=1)\n",
    "raw_features= dataset_object_to_categorical(raw_features)\n",
    "raw_features=dataset_na_fill(raw_features, cible)\n",
    "\n",
    "\n",
    "raw_targets=df[cible]"
   ],
   "id": "be86c1b7f98a91b2",
   "outputs": [],
   "execution_count": null
  },
  {
   "metadata": {},
   "cell_type": "code",
   "source": [
    "df = dataset_object_to_categorical(df)\n",
    "df=dataset_na_fill(df,cible)"
   ],
   "id": "8ebe58afa85d9060",
   "outputs": [],
   "execution_count": null
  },
  {
   "metadata": {},
   "cell_type": "code",
   "source": [
    "\n",
    "features, target = encoding_categorical_features(df,cible)\n",
    "print(features)"
   ],
   "id": "caabc58fadaf0ee9",
   "outputs": [],
   "execution_count": null
  },
  {
   "metadata": {},
   "cell_type": "code",
   "source": "features_train, features_test, target_train, target_test = split_dataset(features,target,test_fraction,42)",
   "id": "31a7decbe70baa2e",
   "outputs": [],
   "execution_count": null
  },
  {
   "metadata": {},
   "cell_type": "code",
   "source": [
    "features, features_train_scaled, features_test_scaled = scale_features(features_train,features_test)\n",
    "if pca==True:\n",
    "    features_train, features_test, n_composantes = PCA_dimension_reduction(features_train_scaled,features_test_scaled,pca_variance,pca_dim)"
   ],
   "id": "baef39f1171d7417",
   "outputs": [],
   "execution_count": null
  },
  {
   "metadata": {},
   "cell_type": "code",
   "source": "modeles=generate_list_of_models(modele_type)",
   "id": "ce8bba77861847e5",
   "outputs": [],
   "execution_count": null
  },
  {
   "metadata": {},
   "cell_type": "code",
   "source": [
    "pipeline_model, predictions, recall,accuracy,f1score,precision,mse, r2, tab_modele, dict_modeles =training_machine_learning_models(modele_type,modeles,False, features_train_scaled,features_test_scaled,target_train,target_test)\n",
    "\n",
    "print(tab_modele)"
   ],
   "id": "1682d9c0c2d2aff2",
   "outputs": [],
   "execution_count": null
  },
  {
   "metadata": {},
   "cell_type": "code",
   "source": "best_modele, pipeline_best_model, best = evaluation_of_trained_models(predictions , dict_modeles,pipeline_model, modele_type, target_test, recall,accuracy,f1score,precision,mse, r2, tab_modele, figure_path)",
   "id": "cb18d9edde7edc7d",
   "outputs": [],
   "execution_count": null
  },
  {
   "metadata": {},
   "cell_type": "code",
   "source": "pd.DataFrame(predictions).head()",
   "id": "5911a6f1b5566682",
   "outputs": [],
   "execution_count": null
  },
  {
   "metadata": {},
   "cell_type": "code",
   "source": "print(best)",
   "id": "46c83642d3beb577",
   "outputs": [],
   "execution_count": null
  },
  {
   "metadata": {},
   "cell_type": "code",
   "source": "results = generate_results(tab_modele,modele_type)",
   "id": "e7e63f8df37c017",
   "outputs": [],
   "execution_count": null
  },
  {
   "metadata": {},
   "cell_type": "code",
   "source": "results.head()",
   "id": "4d1f8c3cb5d7969e",
   "outputs": [],
   "execution_count": null
  },
  {
   "metadata": {},
   "cell_type": "code",
   "source": "report.doc_add_table(results)",
   "id": "275a2e1c3801a563",
   "outputs": [],
   "execution_count": null
  },
  {
   "metadata": {},
   "cell_type": "code",
   "source": "print(config.get_report_path())",
   "id": "2a6f2610eca3b980",
   "outputs": [],
   "execution_count": null
  },
  {
   "metadata": {},
   "cell_type": "code",
   "source": "pipeline = build_the_final_pipeline(pipeline_best_model,raw_features,raw_targets,cible,pca,pca_dim)",
   "id": "4e8e40eec97a229b",
   "outputs": [],
   "execution_count": null
  },
  {
   "metadata": {},
   "cell_type": "code",
   "source": "saving_of_best_model_for_production(model_path,model_api_path,pipeline,best,project_name)",
   "id": "70a53ef5b463fcca",
   "outputs": [],
   "execution_count": null
  },
  {
   "metadata": {},
   "cell_type": "code",
   "source": "generate_data_contract_for_frontEnd(raw_features,features_path)",
   "id": "fc1703b7a807bf09",
   "outputs": [],
   "execution_count": null
  },
  {
   "metadata": {},
   "cell_type": "code",
   "source": "report.report_builder(config.get_report_path())",
   "id": "a1651b6ca7edde14",
   "outputs": [],
   "execution_count": null
  }
 ],
 "metadata": {
  "kernelspec": {
   "display_name": "Python 3",
   "language": "python",
   "name": "python3"
  },
  "language_info": {
   "codemirror_mode": {
    "name": "ipython",
    "version": 2
   },
   "file_extension": ".py",
   "mimetype": "text/x-python",
   "name": "python",
   "nbconvert_exporter": "python",
   "pygments_lexer": "ipython2",
   "version": "2.7.6"
  }
 },
 "nbformat": 4,
 "nbformat_minor": 5
}
