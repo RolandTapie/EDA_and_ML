{
 "cells": [
  {
   "metadata": {},
   "cell_type": "markdown",
   "source": [
    "1_Read dataset\n",
    "2_Encoding\n",
    "3_Normalization\n",
    "4_Train_test_split\n",
    "5_Train_model\n"
   ],
   "id": "fc1063183674ad4f"
  },
  {
   "metadata": {},
   "cell_type": "markdown",
   "source": "",
   "id": "da54e21bfc34a908"
  },
  {
   "metadata": {
    "ExecuteTime": {
     "end_time": "2025-07-20T16:02:55.258996Z",
     "start_time": "2025-07-20T16:02:51.353203Z"
    }
   },
   "cell_type": "code",
   "source": [
    "import pandas as pd\n",
    "\n",
    "from Projects.Functions.Config_Loader.config_loader import *\n",
    "from Projects.Functions.Features_Engineering.features_engineering import *\n",
    "from Projects.Functions.Modelisation.modelisation import *\n",
    "from Projects.Functions.Models_generation.models_generation import *\n",
    "from Projects.Functions.Report.report import *\n",
    "from Projects.Functions.Pipeline_Modelisation.pipeline_modelisation import *\n",
    "from scipy.stats import iqr, shapiro,kstest"
   ],
   "id": "dc6f5824fed5b22b",
   "outputs": [],
   "execution_count": 1
  },
  {
   "metadata": {
    "ExecuteTime": {
     "end_time": "2025-07-20T16:02:55.273271Z",
     "start_time": "2025-07-20T16:02:55.258996Z"
    }
   },
   "cell_type": "code",
   "source": "config=ConfigLoader(r\"C:\\Users\\tallar\\Documents\\PROJETS\\EDA_and_ML\\Projects\\Configs\\Config.json\")",
   "id": "ece6c53e10c627e0",
   "outputs": [],
   "execution_count": 2
  },
  {
   "metadata": {
    "ExecuteTime": {
     "end_time": "2025-07-20T16:02:55.553502Z",
     "start_time": "2025-07-20T16:02:55.541852Z"
    }
   },
   "cell_type": "code",
   "source": [
    "dataset=config.get_dataset_path()\n",
    "print(f\"dataset_path : {dataset}\")\n",
    "cible=config.get_project_target()\n",
    "print(f\"cible : {cible}\")\n",
    "modele_type=config.get_model_type()\n",
    "print(f\"model_type : {modele_type}\")\n",
    "test_fraction=config.get_test_fraction()\n",
    "print(f\"test_fraction : {test_fraction}\")\n",
    "model_path=config.get_model_path()\n",
    "print(f\"model_path : {model_path}\")\n",
    "alpha = config.get_alpha()\n",
    "print(f\"alpha : {alpha}\")\n",
    "correlation_limit = config.get_corr_limit()\n",
    "print(f\"correlation_limit : {correlation_limit}\")\n",
    "cross_validation =config.get_cross_validation()\n",
    "print(f\"cross_validation : {cross_validation}\")\n",
    "file_name =config.get_dataset_filename()\n",
    "print(f\"file_name : {file_name}\")\n",
    "columns_to_delete = config.get_deleted_columns()\n",
    "print(f\"columns_to_delete : {columns_to_delete}\")\n",
    "features_path = config.get_features_json_path()\n",
    "print(f\"features_path : {features_path}\")\n",
    "figure_path = config.get_figure_path()\n",
    "print(f\"figure_path : {figure_path}\")\n",
    "model_api_path=config.get_model_api_path()\n",
    "print(f\"model_api_path : {model_api_path}\")\n",
    "k_fold = config.get_fold_count()\n",
    "print(f\"k_fold : {k_fold}\")\n",
    "pca_dim = config.get_pca_dim()\n",
    "print(f\"pca_dim : {pca_dim}\")\n",
    "pca_variance = config.get_pca_variance()\n",
    "print(f\"pca_variance : {pca_variance}\")"
   ],
   "id": "80531aada41b8070",
   "outputs": [
    {
     "name": "stdout",
     "output_type": "stream",
     "text": [
      "dataset_path : C:/Users/tallar/Documents/PROJETS/EDA_and_ML/Projects/Data/Houses.csv\n",
      "cible : SalePrice\n",
      "model_type : regression\n",
      "test_fraction : 0.2\n",
      "model_path : C:/Users/tallar/Documents/PROJETS/EDA_and_ML/Projects/Project_ML/Repositories/Models/\n",
      "alpha : 0.05\n",
      "correlation_limit : 0.4\n",
      "cross_validation : False\n",
      "file_name : C:/Users/tallar/Documents/PROJETS/EDA_and_ML/Projects/Data/Houses.csv\n",
      "columns_to_delete : ['SEQN', 'RIDAGEYR', 'id', 'No', 'Id', 'Column1', 'PassengerId', 'Name', 'Ticket', 'Cabin']\n",
      "features_path : C:/Users/tallar/Documents/PROJETS/EDA_and_ML/Projects/Project_ML/Repositories/Features/API/features.json\n",
      "figure_path : C:/Users/tallar/Documents/PROJETS/EDA_and_ML/Projects/Project_ML/Repositories/Figures/\n",
      "model_api_path : C:/Users/tallar/Documents/PROJETS/EDA_and_ML/Projects/Project_ML/Repositories/Models/API/\n",
      "k_fold : 3\n",
      "pca_dim : 0\n",
      "pca_variance : 0.95\n"
     ]
    }
   ],
   "execution_count": 3
  },
  {
   "metadata": {
    "ExecuteTime": {
     "end_time": "2025-07-20T16:02:55.594458Z",
     "start_time": "2025-07-20T16:02:55.568478Z"
    }
   },
   "cell_type": "code",
   "source": [
    "project_name=\"House_price\"\n",
    "project_name = project_name + \" version_\"+ str(datetime.now().year) +\"_\"+ str(datetime.now().month) +\"_\"+ str(datetime.now().day) +\"_\"+datetime.now().strftime(\"%H%M%S\")\n",
    "report=Report(project_name)"
   ],
   "id": "833430f8a1b53628",
   "outputs": [],
   "execution_count": 4
  },
  {
   "metadata": {
    "ExecuteTime": {
     "end_time": "2025-07-20T16:02:55.686738Z",
     "start_time": "2025-07-20T16:02:55.608395Z"
    }
   },
   "cell_type": "code",
   "source": [
    "df= dataset_reading(dataset)\n",
    "cible=cible\n",
    "raw_features=df.drop(cible, axis=1)\n",
    "raw_features= dataset_object_to_categorical(raw_features)\n",
    "raw_features=dataset_na_fill(raw_features, cible)\n",
    "\n",
    "\n",
    "raw_targets=df[cible]"
   ],
   "id": "be86c1b7f98a91b2",
   "outputs": [],
   "execution_count": 5
  },
  {
   "metadata": {
    "ExecuteTime": {
     "end_time": "2025-07-20T16:02:55.768538Z",
     "start_time": "2025-07-20T16:02:55.709746Z"
    }
   },
   "cell_type": "code",
   "source": [
    "df = dataset_object_to_categorical(df)\n",
    "df=dataset_na_fill(df,cible)"
   ],
   "id": "8ebe58afa85d9060",
   "outputs": [],
   "execution_count": 6
  },
  {
   "metadata": {
    "ExecuteTime": {
     "end_time": "2025-07-20T16:02:55.867767Z",
     "start_time": "2025-07-20T16:02:55.795550Z"
    }
   },
   "cell_type": "code",
   "source": [
    "\n",
    "features, target = encoding_categorical_features(df,cible)\n",
    "print(features)"
   ],
   "id": "caabc58fadaf0ee9",
   "outputs": [
    {
     "name": "stdout",
     "output_type": "stream",
     "text": [
      "['MSZoning', 'Street', 'Alley', 'LotShape', 'LandContour', 'Utilities', 'LotConfig', 'LandSlope', 'Neighborhood', 'Condition1', 'Condition2', 'BldgType', 'HouseStyle', 'RoofStyle', 'RoofMatl', 'Exterior1st', 'Exterior2nd', 'MasVnrType', 'ExterQual', 'ExterCond', 'Foundation', 'BsmtQual', 'BsmtCond', 'BsmtExposure', 'BsmtFinType1', 'BsmtFinType2', 'Heating', 'HeatingQC', 'CentralAir', 'Electrical', 'KitchenQual', 'Functional', 'FireplaceQu', 'GarageType', 'GarageFinish', 'GarageQual', 'GarageCond', 'PavedDrive', 'PoolQC', 'Fence', 'MiscFeature', 'SaleType', 'SaleCondition']\n",
      "        Id  MSSubClass  LotFrontage  LotArea  OverallQual  OverallCond  \\\n",
      "0        1          60         65.0     8450            7            5   \n",
      "1        2          20         80.0     9600            6            8   \n",
      "2        3          60         68.0    11250            7            5   \n",
      "3        4          70         60.0     9550            7            5   \n",
      "4        5          60         84.0    14260            8            5   \n",
      "...    ...         ...          ...      ...          ...          ...   \n",
      "1455  1456          60         62.0     7917            6            5   \n",
      "1456  1457          20         85.0    13175            6            6   \n",
      "1457  1458          70         66.0     9042            7            9   \n",
      "1458  1459          20         68.0     9717            5            6   \n",
      "1459  1460          20         75.0     9937            5            6   \n",
      "\n",
      "      YearBuilt  YearRemodAdd  MasVnrArea  BsmtFinSF1  ...  SaleType_ConLw  \\\n",
      "0          2003          2003       196.0         706  ...             0.0   \n",
      "1          1976          1976         0.0         978  ...             0.0   \n",
      "2          2001          2002       162.0         486  ...             0.0   \n",
      "3          1915          1970         0.0         216  ...             0.0   \n",
      "4          2000          2000       350.0         655  ...             0.0   \n",
      "...         ...           ...         ...         ...  ...             ...   \n",
      "1455       1999          2000         0.0           0  ...             0.0   \n",
      "1456       1978          1988       119.0         790  ...             0.0   \n",
      "1457       1941          2006         0.0         275  ...             0.0   \n",
      "1458       1950          1996         0.0          49  ...             0.0   \n",
      "1459       1965          1965         0.0         830  ...             0.0   \n",
      "\n",
      "      SaleType_New  SaleType_Oth  SaleType_WD  SaleCondition_Abnorml  \\\n",
      "0              0.0           0.0          1.0                    0.0   \n",
      "1              0.0           0.0          1.0                    0.0   \n",
      "2              0.0           0.0          1.0                    0.0   \n",
      "3              0.0           0.0          1.0                    1.0   \n",
      "4              0.0           0.0          1.0                    0.0   \n",
      "...            ...           ...          ...                    ...   \n",
      "1455           0.0           0.0          1.0                    0.0   \n",
      "1456           0.0           0.0          1.0                    0.0   \n",
      "1457           0.0           0.0          1.0                    0.0   \n",
      "1458           0.0           0.0          1.0                    0.0   \n",
      "1459           0.0           0.0          1.0                    0.0   \n",
      "\n",
      "      SaleCondition_AdjLand  SaleCondition_Alloca  SaleCondition_Family  \\\n",
      "0                       0.0                   0.0                   0.0   \n",
      "1                       0.0                   0.0                   0.0   \n",
      "2                       0.0                   0.0                   0.0   \n",
      "3                       0.0                   0.0                   0.0   \n",
      "4                       0.0                   0.0                   0.0   \n",
      "...                     ...                   ...                   ...   \n",
      "1455                    0.0                   0.0                   0.0   \n",
      "1456                    0.0                   0.0                   0.0   \n",
      "1457                    0.0                   0.0                   0.0   \n",
      "1458                    0.0                   0.0                   0.0   \n",
      "1459                    0.0                   0.0                   0.0   \n",
      "\n",
      "      SaleCondition_Normal  SaleCondition_Partial  \n",
      "0                      1.0                    0.0  \n",
      "1                      1.0                    0.0  \n",
      "2                      1.0                    0.0  \n",
      "3                      0.0                    0.0  \n",
      "4                      1.0                    0.0  \n",
      "...                    ...                    ...  \n",
      "1455                   1.0                    0.0  \n",
      "1456                   1.0                    0.0  \n",
      "1457                   1.0                    0.0  \n",
      "1458                   1.0                    0.0  \n",
      "1459                   1.0                    0.0  \n",
      "\n",
      "[1460 rows x 288 columns]\n"
     ]
    }
   ],
   "execution_count": 7
  },
  {
   "metadata": {
    "ExecuteTime": {
     "end_time": "2025-07-20T16:02:55.917922Z",
     "start_time": "2025-07-20T16:02:55.906364Z"
    }
   },
   "cell_type": "code",
   "source": "features_train, features_test, target_train, target_test = split_dataset(features,target,test_fraction,42)",
   "id": "31a7decbe70baa2e",
   "outputs": [],
   "execution_count": 8
  },
  {
   "metadata": {
    "ExecuteTime": {
     "end_time": "2025-07-20T16:02:56.004125Z",
     "start_time": "2025-07-20T16:02:55.960265Z"
    }
   },
   "cell_type": "code",
   "source": "features, features_train_scaled, features_test_scaled = scale_features(features_train,features_test)",
   "id": "baef39f1171d7417",
   "outputs": [],
   "execution_count": 9
  },
  {
   "metadata": {
    "ExecuteTime": {
     "end_time": "2025-07-20T16:02:56.050054Z",
     "start_time": "2025-07-20T16:02:56.042463Z"
    }
   },
   "cell_type": "code",
   "source": "modeles=generate_list_of_models(modele_type)",
   "id": "ce8bba77861847e5",
   "outputs": [],
   "execution_count": 10
  },
  {
   "metadata": {
    "ExecuteTime": {
     "end_time": "2025-07-20T16:03:12.957192Z",
     "start_time": "2025-07-20T16:02:56.104272Z"
    }
   },
   "cell_type": "code",
   "source": [
    "pipeline_model, predictions, recall,accuracy,f1score,precision,mse, r2, tab_modele, dict_modeles =training_machine_learning_models(modele_type,modeles,False, features_train_scaled,features_test_scaled,target_train,target_test)\n",
    "\n",
    "print(tab_modele)"
   ],
   "id": "1682d9c0c2d2aff2",
   "outputs": [
    {
     "name": "stdout",
     "output_type": "stream",
     "text": [
      "ok\n",
      "Ce modèle ne dispose pas d'un attribut `loss_curve_`.\n",
      "Ce modèle ne dispose pas d'un attribut `loss_curve_`.\n",
      "[LightGBM] [Info] Auto-choosing col-wise multi-threading, the overhead of testing was 0.002414 seconds.\n",
      "You can set `force_col_wise=true` to remove the overhead.\n",
      "[LightGBM] [Info] Total Bins 3604\n",
      "[LightGBM] [Info] Number of data points in the train set: 1168, number of used features: 179\n",
      "[LightGBM] [Info] Start training from score 181441.541952\n",
      "Ce modèle ne dispose pas d'un attribut `loss_curve_`.\n"
     ]
    },
    {
     "name": "stderr",
     "output_type": "stream",
     "text": [
      "C:\\Users\\tallar\\Documents\\PROJETS\\EDA_and_ML\\venv\\Lib\\site-packages\\sklearn\\utils\\validation.py:2749: UserWarning: X does not have valid feature names, but LGBMRegressor was fitted with feature names\n",
      "  warnings.warn(\n"
     ]
    },
    {
     "name": "stdout",
     "output_type": "stream",
     "text": [
      "Ce modèle ne dispose pas d'un attribut `loss_curve_`.\n",
      "Ce modèle ne dispose pas d'un attribut `loss_curve_`.\n",
      "Ce modèle ne dispose pas d'un attribut `loss_curve_`.\n",
      "Ce modèle ne dispose pas d'un attribut `loss_curve_`.\n",
      "Ce modèle ne dispose pas d'un attribut `loss_curve_`.\n"
     ]
    },
    {
     "name": "stderr",
     "output_type": "stream",
     "text": [
      "C:\\Users\\tallar\\Documents\\PROJETS\\EDA_and_ML\\venv\\Lib\\site-packages\\sklearn\\linear_model\\_coordinate_descent.py:695: ConvergenceWarning: Objective did not converge. You might want to increase the number of iterations, check the scale of the features or consider increasing regularisation. Duality gap: 3.081e+10, tolerance: 6.967e+08\n",
      "  model = cd_fast.enet_coordinate_descent(\n"
     ]
    },
    {
     "name": "stdout",
     "output_type": "stream",
     "text": [
      "Ce modèle ne dispose pas d'un attribut `loss_curve_`.\n",
      "Ce modèle ne dispose pas d'un attribut `loss_curve_`.\n"
     ]
    },
    {
     "name": "stderr",
     "output_type": "stream",
     "text": [
      "C:\\Users\\tallar\\Documents\\PROJETS\\EDA_and_ML\\venv\\Lib\\site-packages\\sklearn\\neural_network\\_multilayer_perceptron.py:781: ConvergenceWarning: Stochastic Optimizer: Maximum iterations (300) reached and the optimization hasn't converged yet.\n",
      "  warnings.warn(\n"
     ]
    },
    {
     "data": {
      "text/plain": [
       "<Figure size 640x480 with 1 Axes>"
      ],
      "image/png": "[encoded data removed]"
     },
     "metadata": {},
     "output_type": "display_data"
    },
    {
     "name": "stdout",
     "output_type": "stream",
     "text": [
      "10\n",
      "[['Modele', 'MSE', 'RMSE', 'R2'], ['gradient_boost', 727964045.175, 26980.809, 0.905], ['xgboost', 693468928.0, 26333.798, 0.91], ['lgb_boost', 858547665.433, 29300.984, 0.888], ['adaboost', 720479749.134, 26841.754, 0.906], ['histgboost', 845624822.285, 29079.629, 0.89], ['randomForest', 877726751.739, 29626.454, 0.886], ['lasso', 799502925.479, 28275.483, 0.896], ['Ridge', 810761186.884, 28473.868, 0.894], ['knn', 1896998560.4, 43554.547, 0.753], ['tree', 1565821438.82, 39570.462, 0.796], ['mlp', 2090584048.936, 45722.905, 0.727]]\n"
     ]
    }
   ],
   "execution_count": 11
  },
  {
   "metadata": {
    "ExecuteTime": {
     "end_time": "2025-07-20T16:03:13.093530Z",
     "start_time": "2025-07-20T16:03:13.086158Z"
    }
   },
   "cell_type": "code",
   "source": "best_modele, pipeline_best_model, best = evaluation_of_trained_models(predictions , dict_modeles,pipeline_model, modele_type, target_test, recall,accuracy,f1score,precision,mse, r2, tab_modele, figure_path)",
   "id": "cb18d9edde7edc7d",
   "outputs": [],
   "execution_count": 12
  },
  {
   "metadata": {
    "ExecuteTime": {
     "end_time": "2025-07-20T16:03:13.117395Z",
     "start_time": "2025-07-20T16:03:13.098710Z"
    }
   },
   "cell_type": "code",
   "source": "print(best)",
   "id": "46c83642d3beb577",
   "outputs": [
    {
     "name": "stdout",
     "output_type": "stream",
     "text": [
      "xgboost\n"
     ]
    }
   ],
   "execution_count": 13
  },
  {
   "metadata": {
    "ExecuteTime": {
     "end_time": "2025-07-20T16:03:13.192946Z",
     "start_time": "2025-07-20T16:03:13.182059Z"
    }
   },
   "cell_type": "code",
   "source": "results = generate_results(tab_modele,modele_type)",
   "id": "e7e63f8df37c017",
   "outputs": [],
   "execution_count": 14
  },
  {
   "metadata": {
    "ExecuteTime": {
     "end_time": "2025-07-20T16:03:13.279400Z",
     "start_time": "2025-07-20T16:03:13.262406Z"
    }
   },
   "cell_type": "code",
   "source": "results.head()",
   "id": "4d1f8c3cb5d7969e",
   "outputs": [
    {
     "data": {
      "text/plain": [
       "           Modele           MSE       RMSE     R2\n",
       "1         xgboost  6.934689e+08  26333.798  0.910\n",
       "3        adaboost  7.204797e+08  26841.754  0.906\n",
       "0  gradient_boost  7.279640e+08  26980.809  0.905\n",
       "6           lasso  7.995029e+08  28275.483  0.896\n",
       "7           Ridge  8.107612e+08  28473.868  0.894"
      ],
      "text/html": [
       "<div>\n",
       "<style scoped>\n",
       "    .dataframe tbody tr th:only-of-type {\n",
       "        vertical-align: middle;\n",
       "    }\n",
       "\n",
       "    .dataframe tbody tr th {\n",
       "        vertical-align: top;\n",
       "    }\n",
       "\n",
       "    .dataframe thead th {\n",
       "        text-align: right;\n",
       "    }\n",
       "</style>\n",
       "<table border=\"1\" class=\"dataframe\">\n",
       "  <thead>\n",
       "    <tr style=\"text-align: right;\">\n",
       "      <th></th>\n",
       "      <th>Modele</th>\n",
       "      <th>MSE</th>\n",
       "      <th>RMSE</th>\n",
       "      <th>R2</th>\n",
       "    </tr>\n",
       "  </thead>\n",
       "  <tbody>\n",
       "    <tr>\n",
       "      <th>1</th>\n",
       "      <td>xgboost</td>\n",
       "      <td>6.934689e+08</td>\n",
       "      <td>26333.798</td>\n",
       "      <td>0.910</td>\n",
       "    </tr>\n",
       "    <tr>\n",
       "      <th>3</th>\n",
       "      <td>adaboost</td>\n",
       "      <td>7.204797e+08</td>\n",
       "      <td>26841.754</td>\n",
       "      <td>0.906</td>\n",
       "    </tr>\n",
       "    <tr>\n",
       "      <th>0</th>\n",
       "      <td>gradient_boost</td>\n",
       "      <td>7.279640e+08</td>\n",
       "      <td>26980.809</td>\n",
       "      <td>0.905</td>\n",
       "    </tr>\n",
       "    <tr>\n",
       "      <th>6</th>\n",
       "      <td>lasso</td>\n",
       "      <td>7.995029e+08</td>\n",
       "      <td>28275.483</td>\n",
       "      <td>0.896</td>\n",
       "    </tr>\n",
       "    <tr>\n",
       "      <th>7</th>\n",
       "      <td>Ridge</td>\n",
       "      <td>8.107612e+08</td>\n",
       "      <td>28473.868</td>\n",
       "      <td>0.894</td>\n",
       "    </tr>\n",
       "  </tbody>\n",
       "</table>\n",
       "</div>"
      ]
     },
     "execution_count": 15,
     "metadata": {},
     "output_type": "execute_result"
    }
   ],
   "execution_count": 15
  },
  {
   "metadata": {
    "ExecuteTime": {
     "end_time": "2025-07-20T16:03:13.412643Z",
     "start_time": "2025-07-20T16:03:13.382922Z"
    }
   },
   "cell_type": "code",
   "source": "report.doc_add_table(results)",
   "id": "275a2e1c3801a563",
   "outputs": [
    {
     "data": {
      "text/plain": [
       "<Projects.Functions.Report.report.Report at 0x183db2b5490>"
      ]
     },
     "execution_count": 16,
     "metadata": {},
     "output_type": "execute_result"
    }
   ],
   "execution_count": 16
  },
  {
   "metadata": {
    "ExecuteTime": {
     "end_time": "2025-07-20T16:03:13.504598Z",
     "start_time": "2025-07-20T16:03:13.484932Z"
    }
   },
   "cell_type": "code",
   "source": "print(config.get_report_path())",
   "id": "2a6f2610eca3b980",
   "outputs": [
    {
     "name": "stdout",
     "output_type": "stream",
     "text": [
      "C:/Users/tallar/Documents/PROJETS/EDA_and_ML/Projects/Project_ML/Repositories/Reports/\n"
     ]
    }
   ],
   "execution_count": 17
  },
  {
   "metadata": {
    "ExecuteTime": {
     "end_time": "2025-07-20T16:03:13.789637Z",
     "start_time": "2025-07-20T16:03:13.585655Z"
    }
   },
   "cell_type": "code",
   "source": "pipeline = build_the_final_pipeline(pipeline_best_model,raw_features,raw_targets,cible)",
   "id": "4e8e40eec97a229b",
   "outputs": [],
   "execution_count": 18
  },
  {
   "metadata": {
    "ExecuteTime": {
     "end_time": "2025-07-20T16:03:13.935719Z",
     "start_time": "2025-07-20T16:03:13.882554Z"
    }
   },
   "cell_type": "code",
   "source": "saving_of_best_model_for_production(model_path,model_api_path,pipeline,best,project_name)",
   "id": "70a53ef5b463fcca",
   "outputs": [
    {
     "name": "stdout",
     "output_type": "stream",
     "text": [
      "C:/Users/tallar/Documents/PROJETS/EDA_and_ML/Projects/Project_ML/Repositories/Models/House_price version_2025_7_20_180255_xgboost_pipeline_model.joblib\n",
      "C:/Users/tallar/Documents/PROJETS/EDA_and_ML/Projects/Project_ML/Repositories/Models/API/House_price version_2025_7_20_180255_xgboost_pipeline_model.joblib\n"
     ]
    }
   ],
   "execution_count": 19
  },
  {
   "metadata": {
    "ExecuteTime": {
     "end_time": "2025-07-20T16:03:14.049941Z",
     "start_time": "2025-07-20T16:03:14.030826Z"
    }
   },
   "cell_type": "code",
   "source": "generate_data_contract_for_frontEnd(raw_features,features_path)",
   "id": "fc1703b7a807bf09",
   "outputs": [
    {
     "name": "stdout",
     "output_type": "stream",
     "text": [
      "{'Id': 'int64  : values = [ 1 to 1460 ]', 'MSSubClass': 'int64  : values = [ 20 to 190 ]', 'MSZoning': \"category  : values = ['RL', 'RM', 'C (all)', 'FV', 'RH']\", 'LotFrontage': 'float64  : values = [ 21.0 to 313.0 ]', 'LotArea': 'int64  : values = [ 1300 to 215245 ]', 'Street': \"category  : values = ['Pave', 'Grvl']\", 'Alley': \"category  : values = ['Grvl', 'Pave']\", 'LotShape': \"category  : values = ['Reg', 'IR1', 'IR2', 'IR3']\", 'LandContour': \"category  : values = ['Lvl', 'Bnk', 'Low', 'HLS']\", 'Utilities': \"category  : values = ['AllPub', 'NoSeWa']\", 'LotConfig': \"category  : values = ['Inside', 'FR2', 'Corner', 'CulDSac', 'FR3']\", 'LandSlope': \"category  : values = ['Gtl', 'Mod', 'Sev']\", 'Neighborhood': \"category  : values = ['CollgCr', 'Veenker', 'Crawfor', 'NoRidge', 'Mitchel', 'Somerst', 'NWAmes', 'OldTown', 'BrkSide', 'Sawyer', 'NridgHt', 'NAmes', 'SawyerW', 'IDOTRR', 'MeadowV', 'Edwards', 'Timber', 'Gilbert', 'StoneBr', 'ClearCr', 'NPkVill', 'Blmngtn', 'BrDale', 'SWISU', 'Blueste']\", 'Condition1': \"category  : values = ['Norm', 'Feedr', 'PosN', 'Artery', 'RRAe', 'RRNn', 'RRAn', 'PosA', 'RRNe']\", 'Condition2': \"category  : values = ['Norm', 'Artery', 'RRNn', 'Feedr', 'PosN', 'PosA', 'RRAn', 'RRAe']\", 'BldgType': \"category  : values = ['1Fam', '2fmCon', 'Duplex', 'TwnhsE', 'Twnhs']\", 'HouseStyle': \"category  : values = ['2Story', '1Story', '1.5Fin', '1.5Unf', 'SFoyer', 'SLvl', '2.5Unf', '2.5Fin']\", 'OverallQual': 'int64  : values = [ 1 to 10 ]', 'OverallCond': 'int64  : values = [ 1 to 9 ]', 'YearBuilt': 'int64  : values = [ 1872 to 2010 ]', 'YearRemodAdd': 'int64  : values = [ 1950 to 2010 ]', 'RoofStyle': \"category  : values = ['Gable', 'Hip', 'Gambrel', 'Mansard', 'Flat', 'Shed']\", 'RoofMatl': \"category  : values = ['CompShg', 'WdShngl', 'Metal', 'WdShake', 'Membran', 'Tar&Grv', 'Roll', 'ClyTile']\", 'Exterior1st': \"category  : values = ['VinylSd', 'MetalSd', 'Wd Sdng', 'HdBoard', 'BrkFace', 'WdShing', 'CemntBd', 'Plywood', 'AsbShng', 'Stucco', 'BrkComm', 'AsphShn', 'Stone', 'ImStucc', 'CBlock']\", 'Exterior2nd': \"category  : values = ['VinylSd', 'MetalSd', 'Wd Shng', 'HdBoard', 'Plywood', 'Wd Sdng', 'CmentBd', 'BrkFace', 'Stucco', 'AsbShng', 'Brk Cmn', 'ImStucc', 'AsphShn', 'Stone', 'Other', 'CBlock']\", 'MasVnrType': \"category  : values = ['BrkFace', 'Stone', 'BrkCmn']\", 'MasVnrArea': 'float64  : values = [ 0.0 to 1600.0 ]', 'ExterQual': \"category  : values = ['Gd', 'TA', 'Ex', 'Fa']\", 'ExterCond': \"category  : values = ['TA', 'Gd', 'Fa', 'Po', 'Ex']\", 'Foundation': \"category  : values = ['PConc', 'CBlock', 'BrkTil', 'Wood', 'Slab', 'Stone']\", 'BsmtQual': \"category  : values = ['Gd', 'TA', 'Ex', 'Fa']\", 'BsmtCond': \"category  : values = ['TA', 'Gd', 'Fa', 'Po']\", 'BsmtExposure': \"category  : values = ['No', 'Gd', 'Mn', 'Av']\", 'BsmtFinType1': \"category  : values = ['GLQ', 'ALQ', 'Unf', 'Rec', 'BLQ', 'LwQ']\", 'BsmtFinSF1': 'int64  : values = [ 0 to 5644 ]', 'BsmtFinType2': \"category  : values = ['Unf', 'BLQ', 'ALQ', 'Rec', 'LwQ', 'GLQ']\", 'BsmtFinSF2': 'int64  : values = [ 0 to 1474 ]', 'BsmtUnfSF': 'int64  : values = [ 0 to 2336 ]', 'TotalBsmtSF': 'int64  : values = [ 0 to 6110 ]', 'Heating': \"category  : values = ['GasA', 'GasW', 'Grav', 'Wall', 'OthW', 'Floor']\", 'HeatingQC': \"category  : values = ['Ex', 'Gd', 'TA', 'Fa', 'Po']\", 'CentralAir': \"category  : values = ['Y', 'N']\", 'Electrical': \"category  : values = ['SBrkr', 'FuseF', 'FuseA', 'FuseP', 'Mix']\", '1stFlrSF': 'int64  : values = [ 334 to 4692 ]', '2ndFlrSF': 'int64  : values = [ 0 to 2065 ]', 'LowQualFinSF': 'int64  : values = [ 0 to 572 ]', 'GrLivArea': 'int64  : values = [ 334 to 5642 ]', 'BsmtFullBath': 'int64  : values = [ 0 to 3 ]', 'BsmtHalfBath': 'int64  : values = [ 0 to 2 ]', 'FullBath': 'int64  : values = [ 0 to 3 ]', 'HalfBath': 'int64  : values = [ 0 to 2 ]', 'BedroomAbvGr': 'int64  : values = [ 0 to 8 ]', 'KitchenAbvGr': 'int64  : values = [ 0 to 3 ]', 'KitchenQual': \"category  : values = ['Gd', 'TA', 'Ex', 'Fa']\", 'TotRmsAbvGrd': 'int64  : values = [ 2 to 14 ]', 'Functional': \"category  : values = ['Typ', 'Min1', 'Maj1', 'Min2', 'Mod', 'Maj2', 'Sev']\", 'Fireplaces': 'int64  : values = [ 0 to 3 ]', 'FireplaceQu': \"category  : values = ['Gd', 'TA', 'Fa', 'Ex', 'Po']\", 'GarageType': \"category  : values = ['Attchd', 'Detchd', 'BuiltIn', 'CarPort', 'Basment', '2Types']\", 'GarageYrBlt': 'float64  : values = [ 1900.0 to 2010.0 ]', 'GarageFinish': \"category  : values = ['RFn', 'Unf', 'Fin']\", 'GarageCars': 'int64  : values = [ 0 to 4 ]', 'GarageArea': 'int64  : values = [ 0 to 1418 ]', 'GarageQual': \"category  : values = ['TA', 'Fa', 'Gd', 'Ex', 'Po']\", 'GarageCond': \"category  : values = ['TA', 'Fa', 'Gd', 'Po', 'Ex']\", 'PavedDrive': \"category  : values = ['Y', 'N', 'P']\", 'WoodDeckSF': 'int64  : values = [ 0 to 857 ]', 'OpenPorchSF': 'int64  : values = [ 0 to 547 ]', 'EnclosedPorch': 'int64  : values = [ 0 to 552 ]', '3SsnPorch': 'int64  : values = [ 0 to 508 ]', 'ScreenPorch': 'int64  : values = [ 0 to 480 ]', 'PoolArea': 'int64  : values = [ 0 to 738 ]', 'PoolQC': \"category  : values = ['Gd', 'Ex', 'Fa']\", 'Fence': \"category  : values = ['MnPrv', 'GdWo', 'GdPrv', 'MnWw']\", 'MiscFeature': \"category  : values = ['Shed', 'Gar2', 'Othr', 'TenC']\", 'MiscVal': 'int64  : values = [ 0 to 15500 ]', 'MoSold': 'int64  : values = [ 1 to 12 ]', 'YrSold': 'int64  : values = [ 2006 to 2010 ]', 'SaleType': \"category  : values = ['WD', 'New', 'COD', 'ConLD', 'ConLI', 'CWD', 'ConLw', 'Con', 'Oth']\", 'SaleCondition': \"category  : values = ['Normal', 'Abnorml', 'Partial', 'AdjLand', 'Alloca', 'Family']\"}\n"
     ]
    }
   ],
   "execution_count": 20
  },
  {
   "metadata": {
    "ExecuteTime": {
     "end_time": "2025-07-20T16:03:14.154854Z",
     "start_time": "2025-07-20T16:03:14.115283Z"
    }
   },
   "cell_type": "code",
   "source": "report.report_builder(config.get_report_path())",
   "id": "a1651b6ca7edde14",
   "outputs": [],
   "execution_count": 21
  }
 ],
 "metadata": {
  "kernelspec": {
   "display_name": "Python 3",
   "language": "python",
   "name": "python3"
  },
  "language_info": {
   "codemirror_mode": {
    "name": "ipython",
    "version": 2
   },
   "file_extension": ".py",
   "mimetype": "text/x-python",
   "name": "python",
   "nbconvert_exporter": "python",
   "pygments_lexer": "ipython2",
   "version": "2.7.6"
  }
 },
 "nbformat": 4,
 "nbformat_minor": 5
}
